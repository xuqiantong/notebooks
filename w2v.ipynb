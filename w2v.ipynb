{
 "cells": [
  {
   "cell_type": "markdown",
   "metadata": {},
   "source": [
    "## Gathering PL"
   ]
  },
  {
   "cell_type": "code",
   "execution_count": 6,
   "metadata": {},
   "outputs": [],
   "source": [
    "import os"
   ]
  },
  {
   "cell_type": "code",
   "execution_count": 52,
   "metadata": {},
   "outputs": [],
   "source": [
    "tsv_file = '/private/home/qiantong/w2v/data/librivox/train_36s_real.tsv'\n",
    "# root = '/checkpoint/qiantong/w2v/pl/960h_rescore_lv/{}_hypo.word-checkpoint_best.pt-train_36s_real.txt'\n",
    "# n_workers = 400\n",
    "\n",
    "# tsv_file = '/checkpoint/abaevski/data/speech/libri/960h/wav2vec/raw/train.tsv'\n",
    "# root = '/checkpoint/qiantong/w2v/pl/ls_10m_rescore/{}_hypo.word-wav2vec_big_10m.pt-train.txt'\n",
    "# root = '/checkpoint/qiantong/w2v/pl/ls_1h_rescore/{}_hypo.word-wav2vec_big_1h.pt-train.txt'\n",
    "# root = '/checkpoint/qiantong/w2v/pl/ls_10h_rescore/{}_hypo.word-wav2vec_big_10h.pt-train.txt'\n",
    "# root = '/checkpoint/qiantong/w2v/pl/ls_100h_rescore/{}_hypo.word-wav2vec_big_100h.pt-train.txt'\n",
    "# n_workers = 50\n",
    "\n",
    "root = '/checkpoint/qiantong/w2v/pl/1h_rescore_lv/{}_hypo.word-wav2vec_vox_new_1h.pt-train_36s_real.txt'\n",
    "n_workers = 300"
   ]
  },
  {
   "cell_type": "code",
   "execution_count": 53,
   "metadata": {},
   "outputs": [
    {
     "name": "stdout",
     "output_type": "stream",
     "text": [
      "12283659\n"
     ]
    }
   ],
   "source": [
    "trans = {}\n",
    "for i in range(n_workers):\n",
    "    if not os.path.exists(root.format(i)):\n",
    "        continue\n",
    "    with open(root.format(i)) as f:\n",
    "        for line in f:\n",
    "            line = line.strip()\n",
    "            try:\n",
    "                if line.startswith('(None-'):\n",
    "                    sp = line[:-1].split('-')\n",
    "                    trans[int(sp[1])] = ''\n",
    "                else:\n",
    "                    sp = line[:-1].split(' (None-')\n",
    "                    trans[int(sp[1])] = sp[0]\n",
    "            except:\n",
    "                print(line)\n",
    "                print(sp)\n",
    "               \n",
    "print(len(trans))"
   ]
  },
  {
   "cell_type": "code",
   "execution_count": 54,
   "metadata": {},
   "outputs": [
    {
     "name": "stdout",
     "output_type": "stream",
     "text": [
      "12283659\n"
     ]
    }
   ],
   "source": [
    "print(len(trans))\n",
    "sorted_items = sorted(trans.items()) # 15863907"
   ]
  },
  {
   "cell_type": "code",
   "execution_count": 19,
   "metadata": {},
   "outputs": [],
   "source": [
    "def w2l(word):\n",
    "    return \" \".join(list(word) + ['|'])\n",
    "\n",
    "min_duration = 16000 # 1s\n",
    "max_duration = 576000 # 36s"
   ]
  },
  {
   "cell_type": "code",
   "execution_count": 55,
   "metadata": {},
   "outputs": [],
   "source": [
    "out_name = root.split('/')[-2]\n",
    "out_dir = \"/private/home/qiantong/w2v/data/\" + out_name + '/'\n",
    "\n",
    "with open(tsv_file) as ftsv:\n",
    "    lines = ftsv.readlines()\n",
    "    with open(out_dir + 'train.tsv', 'w') as fout, open(out_dir + 'train.ltr', 'w') as fltr:\n",
    "        fout.write(lines[0])\n",
    "        for i, line in sorted_items:\n",
    "            line = line.strip()\n",
    "            if len(line) == 0:\n",
    "                continue\n",
    "                \n",
    "            duration = int(lines[i + 1].split('\\t')[-1])\n",
    "            if duration < min_duration:\n",
    "                continue\n",
    "            if duration > max_duration:\n",
    "                continue\n",
    "\n",
    "            out_line = \"\"\n",
    "            for word in line.upper().split():\n",
    "                out_line += \" \" + w2l(word)\n",
    "            fltr.write(out_line[1:] + '\\n')\n",
    "            fout.write(lines[i + 1])"
   ]
  },
  {
   "cell_type": "code",
   "execution_count": 56,
   "metadata": {},
   "outputs": [],
   "source": [
    "with open(out_dir + 'train.ltr') as fltr:\n",
    "    with open(out_dir + 'train.tsv') as ftsv:\n",
    "        with open('/private/home/qiantong/push_numbers/lists/w2v_pl_{}.lst'.format(out_name), 'w') as fout:\n",
    "            lines = ftsv.readlines()\n",
    "            root = lines[0].strip() + '/'\n",
    "            for i, line in enumerate(fltr):\n",
    "                meta = lines[i + 1].strip()\n",
    "                duration = int(meta.split('\\t')[-1]) / 16\n",
    "                meta = meta.split('\\t')[0]\n",
    "                trans = ' '.join(''.join(line.split(' ')).split('|')).lower()\n",
    "                #print('\\t'.join([str(i), root + meta, str(duration), trans]))\n",
    "                #break\n",
    "                fout.write('\\t'.join([str(i), root + meta, str(duration), trans]))"
   ]
  },
  {
   "cell_type": "code",
   "execution_count": 38,
   "metadata": {},
   "outputs": [],
   "source": [
    "groud_truth = {}\n",
    "\n",
    "with open('/private/home/qiantong/push_numbers/lists/train-all.lst') as f:\n",
    "    for line in f:\n",
    "        sp = line.strip().split()\n",
    "        key = '/'.join(sp[1].split('/')[-4:])\n",
    "        groud_truth[key] = sp[3:]"
   ]
  },
  {
   "cell_type": "code",
   "execution_count": 51,
   "metadata": {},
   "outputs": [
    {
     "name": "stdout",
     "output_type": "stream",
     "text": [
      "0.02059062362817795\n"
     ]
    }
   ],
   "source": [
    "def levenshteinDistance(s1, s2):\n",
    "    if len(s1) > len(s2):\n",
    "        s1, s2 = s2, s1\n",
    "\n",
    "    distances = range(len(s1) + 1)\n",
    "    for i2, c2 in enumerate(s2):\n",
    "        distances_ = [i2+1]\n",
    "        for i1, c1 in enumerate(s1):\n",
    "            if c1 == c2:\n",
    "                distances_.append(distances[i1])\n",
    "            else:\n",
    "                distances_.append(1 + min((distances[i1], distances[i1 + 1], distances_[-1])))\n",
    "        distances = distances_\n",
    "    return distances[-1]\n",
    "\n",
    "total_dist = 0.\n",
    "total_length = 0.\n",
    "with open('/private/home/qiantong/push_numbers/lists/w2v_pl_{}.lst'.format(out_name)) as f:\n",
    "    for line in f:\n",
    "        sp = line.strip().split()\n",
    "        key = '/'.join(sp[1].split('/')[-4:])\n",
    "        trans = sp[3:]\n",
    "        targ = groud_truth[key]\n",
    "        total_length += len(targ)\n",
    "        dist = levenshteinDistance(trans, targ)\n",
    "        total_dist += dist\n",
    "print(total_dist / total_length)\n",
    "    "
   ]
  },
  {
   "cell_type": "code",
   "execution_count": null,
   "metadata": {},
   "outputs": [],
   "source": []
  },
  {
   "cell_type": "code",
   "execution_count": null,
   "metadata": {},
   "outputs": [],
   "source": []
  },
  {
   "cell_type": "code",
   "execution_count": 59,
   "metadata": {},
   "outputs": [
    {
     "name": "stdout",
     "output_type": "stream",
     "text": [
      "55802.783323872114\n"
     ]
    }
   ],
   "source": [
    "with open('/private/home/qiantong/push_numbers/lists/librivox.cut.sub36s.no_overlap_lm.lst') as f:\n",
    "    duration = 0\n",
    "    for line in f:\n",
    "        sp = line.split()\n",
    "        duration += float(sp[2]) / 1000\n",
    "#         print(sp)\n",
    "#         break\n",
    "        \n",
    "    print(duration/3600)"
   ]
  },
  {
   "cell_type": "code",
   "execution_count": null,
   "metadata": {},
   "outputs": [],
   "source": []
  },
  {
   "cell_type": "code",
   "execution_count": 4,
   "metadata": {},
   "outputs": [],
   "source": [
    "def levenshteinDistance(s1, s2):\n",
    "    if len(s1) > len(s2):\n",
    "        s1, s2 = s2, s1\n",
    "\n",
    "    distances = range(len(s1) + 1)\n",
    "    for i2, c2 in enumerate(s2):\n",
    "        distances_ = [i2+1]\n",
    "        for i1, c1 in enumerate(s1):\n",
    "            if c1 == c2:\n",
    "                distances_.append(distances[i1])\n",
    "            else:\n",
    "                distances_.append(1 + min((distances[i1], distances[i1 + 1], distances_[-1])))\n",
    "        distances = distances_\n",
    "    return distances[-1]"
   ]
  },
  {
   "cell_type": "code",
   "execution_count": 1,
   "metadata": {},
   "outputs": [],
   "source": [
    "truth = {}\n",
    "\n",
    "fileroot = \"/private/home/qiantong/push_numbers/lists/\"\n",
    "for ff in ['train-clean-360.lst', 'train-other-500.lst']:\n",
    "    with open(fileroot + ff) as f:\n",
    "        for line in f:\n",
    "            sp = line.split()\n",
    "            truth[sp[0]] = sp[3:]"
   ]
  },
  {
   "cell_type": "code",
   "execution_count": 2,
   "metadata": {},
   "outputs": [
    {
     "name": "stdout",
     "output_type": "stream",
     "text": [
      "train-clean-360-100-121669-0000 ['tom', 'the', \"piper's\", 'son']\n"
     ]
    }
   ],
   "source": [
    "for k, v in truth.items():\n",
    "    print(k, v)\n",
    "    break"
   ]
  },
  {
   "cell_type": "code",
   "execution_count": 6,
   "metadata": {},
   "outputs": [
    {
     "name": "stdout",
     "output_type": "stream",
     "text": [
      " --- 1 ---\n",
      "0.20721683258753343\n",
      " --- 1_runnamenov16 ---\n",
      "0.21097352921457782\n",
      " --- 1_runnamenov18 ---\n",
      "0.21250640271797383\n"
     ]
    }
   ],
   "source": [
    "fileroot = \"/checkpoint/qiantong/wav2letter_experiments/viterbi_ipl/{}/generated_pl/epoch_140/{}.lst\"\n",
    "\n",
    "for run in ['1', '1_runnamenov16', '1_runnamenov18']:\n",
    "    print(' --- {} ---'.format(run))\n",
    "    error = 0.\n",
    "    nword = 0.\n",
    "\n",
    "    for i in range(64):\n",
    "        with open(fileroot.format(run, i)) as f:\n",
    "            for line in f:\n",
    "                sp = line.split('\\t')\n",
    "                tar = truth[sp[0]]\n",
    "                nword += len(tar)\n",
    "                error += levenshteinDistance(tar, sp[-1].split())\n",
    "\n",
    "    print(error / nword)"
   ]
  },
  {
   "cell_type": "code",
   "execution_count": null,
   "metadata": {},
   "outputs": [],
   "source": []
  },
  {
   "cell_type": "code",
   "execution_count": 20,
   "metadata": {},
   "outputs": [],
   "source": [
    "lists = \"/checkpoint/jacobkahn/data/lists/librispeech/train-clean-100.lst,/checkpoint/jacobkahn/data/lists/librispeech/train-clean-360.lst,/checkpoint/jacobkahn/data/lists/librispeech/train-other-500.lst,/checkpoint/wav2letter/data/swbd_lists/noNL/switchboard.16khz.lst,/checkpoint/wav2letter/data/swbd_lists/noNL/fisher.16khz.lst,/checkpoint/wav2letter/data/commonvoice/lists/train.lst,/checkpoint/qiantong/wsj/si284.lst,/checkpoint/wav2letter/data/tedlium/lists/train.lst\"\n",
    "\n",
    "with open('/private/home/qiantong/wav2letter_experiments/256_GPU/join_train_filtered.lst', 'w') as fout:\n",
    "    for ff in lists.split(','):\n",
    "        with open(ff) as f:\n",
    "            for line in f:\n",
    "                line = line.strip()\n",
    "                sp = line.split('\\t')\n",
    "                if len(sp) == 1:\n",
    "                    tmp = line.split()\n",
    "                    if len(tmp) < 4:\n",
    "                        continue\n",
    "                    sp = tmp[:3]\n",
    "                    sp.append(' '.join(tmp[3:]))\n",
    "                    \n",
    "                if len(sp) != 4:\n",
    "                    continue\n",
    "                if float(sp[-2]) > 35000:\n",
    "                    continue\n",
    "                if len(sp[-1]) > 500:\n",
    "#                     print(sp)\n",
    "                    continue\n",
    "                \n",
    "                fout.write('\\t'.join(sp) + '\\n')"
   ]
  },
  {
   "cell_type": "code",
   "execution_count": 7,
   "metadata": {},
   "outputs": [],
   "source": [
    "def levenshteinDistance(s1, s2):\n",
    "    if len(s1) > len(s2):\n",
    "        s1, s2 = s2, s1\n",
    "\n",
    "    distances = range(len(s1) + 1)\n",
    "    for i2, c2 in enumerate(s2):\n",
    "        distances_ = [i2+1]\n",
    "        for i1, c1 in enumerate(s1):\n",
    "            if c1 == c2:\n",
    "                distances_.append(distances[i1])\n",
    "            else:\n",
    "                distances_.append(1 + min((distances[i1], distances[i1 + 1], distances_[-1])))\n",
    "        distances = distances_\n",
    "    return distances[-1]"
   ]
  },
  {
   "cell_type": "code",
   "execution_count": 44,
   "metadata": {},
   "outputs": [
    {
     "ename": "ValueError",
     "evalue": "could not convert string to float: '15:02:32'",
     "output_type": "error",
     "traceback": [
      "\u001b[0;31m---------------------------------------------------------------------------\u001b[0m",
      "\u001b[0;31mValueError\u001b[0m                                Traceback (most recent call last)",
      "\u001b[0;32m<ipython-input-44-f604301c2d70>\u001b[0m in \u001b[0;36m<module>\u001b[0;34m\u001b[0m\n\u001b[1;32m     24\u001b[0m         \u001b[0mtarget\u001b[0m \u001b[0;34m=\u001b[0m \u001b[0mlines\u001b[0m\u001b[0;34m[\u001b[0m\u001b[0mi\u001b[0m \u001b[0;34m+\u001b[0m \u001b[0;36m1\u001b[0m\u001b[0;34m]\u001b[0m\u001b[0;34m.\u001b[0m\u001b[0msplit\u001b[0m\u001b[0;34m(\u001b[0m\u001b[0;34m':'\u001b[0m\u001b[0;34m)\u001b[0m\u001b[0;34m[\u001b[0m\u001b[0;34m-\u001b[0m\u001b[0;36m1\u001b[0m\u001b[0;34m]\u001b[0m\u001b[0;34m.\u001b[0m\u001b[0msplit\u001b[0m\u001b[0;34m(\u001b[0m\u001b[0;34m)\u001b[0m\u001b[0;34m\u001b[0m\u001b[0;34m\u001b[0m\u001b[0m\n\u001b[1;32m     25\u001b[0m         \u001b[0mdecoder_score\u001b[0m \u001b[0;34m=\u001b[0m \u001b[0mfloat\u001b[0m\u001b[0;34m(\u001b[0m\u001b[0mlines\u001b[0m\u001b[0;34m[\u001b[0m\u001b[0mi\u001b[0m \u001b[0;34m+\u001b[0m \u001b[0;36m2\u001b[0m\u001b[0;34m]\u001b[0m\u001b[0;34m.\u001b[0m\u001b[0msplit\u001b[0m\u001b[0;34m(\u001b[0m\u001b[0;34m':'\u001b[0m\u001b[0;34m)\u001b[0m\u001b[0;34m[\u001b[0m\u001b[0;34m-\u001b[0m\u001b[0;36m1\u001b[0m\u001b[0;34m]\u001b[0m\u001b[0;34m)\u001b[0m\u001b[0;34m\u001b[0m\u001b[0;34m\u001b[0m\u001b[0m\n\u001b[0;32m---> 26\u001b[0;31m         \u001b[0mlm_score\u001b[0m \u001b[0;34m=\u001b[0m \u001b[0mfloat\u001b[0m\u001b[0;34m(\u001b[0m\u001b[0mlines\u001b[0m\u001b[0;34m[\u001b[0m\u001b[0mi\u001b[0m \u001b[0;34m+\u001b[0m \u001b[0;36m2\u001b[0m\u001b[0;34m]\u001b[0m\u001b[0;34m.\u001b[0m\u001b[0msplit\u001b[0m\u001b[0;34m(\u001b[0m\u001b[0;34m','\u001b[0m\u001b[0;34m)\u001b[0m\u001b[0;34m[\u001b[0m\u001b[0;34m-\u001b[0m\u001b[0;36m2\u001b[0m\u001b[0;34m]\u001b[0m\u001b[0;34m.\u001b[0m\u001b[0msplit\u001b[0m\u001b[0;34m(\u001b[0m\u001b[0;34m)\u001b[0m\u001b[0;34m[\u001b[0m\u001b[0;34m-\u001b[0m\u001b[0;36m1\u001b[0m\u001b[0;34m]\u001b[0m\u001b[0;34m)\u001b[0m\u001b[0;34m\u001b[0m\u001b[0;34m\u001b[0m\u001b[0m\n\u001b[0m\u001b[1;32m     27\u001b[0m         \u001b[0mam_score\u001b[0m \u001b[0;34m=\u001b[0m \u001b[0mfloat\u001b[0m\u001b[0;34m(\u001b[0m\u001b[0mlines\u001b[0m\u001b[0;34m[\u001b[0m\u001b[0mi\u001b[0m \u001b[0;34m+\u001b[0m \u001b[0;36m2\u001b[0m\u001b[0;34m]\u001b[0m\u001b[0;34m.\u001b[0m\u001b[0msplit\u001b[0m\u001b[0;34m(\u001b[0m\u001b[0;34m','\u001b[0m\u001b[0;34m)\u001b[0m\u001b[0;34m[\u001b[0m\u001b[0;34m-\u001b[0m\u001b[0;36m3\u001b[0m\u001b[0;34m]\u001b[0m\u001b[0;34m.\u001b[0m\u001b[0msplit\u001b[0m\u001b[0;34m(\u001b[0m\u001b[0;34m)\u001b[0m\u001b[0;34m[\u001b[0m\u001b[0;34m-\u001b[0m\u001b[0;36m1\u001b[0m\u001b[0;34m]\u001b[0m\u001b[0;34m)\u001b[0m\u001b[0;34m\u001b[0m\u001b[0;34m\u001b[0m\u001b[0m\n\u001b[1;32m     28\u001b[0m \u001b[0;31m#         print(decoder_score, lm_score)\u001b[0m\u001b[0;34m\u001b[0m\u001b[0;34m\u001b[0m\u001b[0;34m\u001b[0m\u001b[0m\n",
      "\u001b[0;31mValueError\u001b[0m: could not convert string to float: '15:02:32'"
     ]
    }
   ],
   "source": [
    "offset = 5\n",
    "interval = 5\n",
    "\n",
    "decoder_scores = []\n",
    "lm_scores = []\n",
    "am_scores = []\n",
    "wer = []\n",
    "lens = []\n",
    "\n",
    "with open('/private/home/abaevski/tmp/qiantong_lexfree.txt') as f:\n",
    "    lines = f.readlines()\n",
    "    n = len(lines)\n",
    "#     n = 50005\n",
    "    for i in range(offset, n, interval):\n",
    "        index = lines[i].split(':')[-2][-1]\n",
    "        if index == '0':\n",
    "            decoder_scores .append([])\n",
    "            lm_scores .append([])\n",
    "            am_scores .append([])\n",
    "            wer .append([])\n",
    "            lens.append([])\n",
    "        \n",
    "        hypo = lines[i].split(':')[-1].split()\n",
    "        target = lines[i + 1].split(':')[-1].split()\n",
    "        decoder_score = float(lines[i + 2].split(':')[-1])\n",
    "        lm_score = float(lines[i + 2].split(',')[-2].split()[-1])\n",
    "        am_score = float(lines[i + 2].split(',')[-3].split()[-1])\n",
    "#         print(decoder_score, lm_score)\n",
    "#         print(len(hypo), len(target))\n",
    "#         break\n",
    "        wer[-1].append(levenshteinDistance(hypo, target) / len(target))\n",
    "        decoder_scores[-1].append(decoder_score)\n",
    "        lm_scores[-1].append(lm_score)\n",
    "        am_scores[-1].append(am_score)\n",
    "        lens[-1].append(len(target))\n",
    "        \n"
   ]
  },
  {
   "cell_type": "code",
   "execution_count": 50,
   "metadata": {},
   "outputs": [
    {
     "name": "stdout",
     "output_type": "stream",
     "text": [
      "0.1326918368867553\n",
      "0.1318935144283479\n"
     ]
    }
   ],
   "source": [
    "total_decoder_err = 0.\n",
    "total_lm_err = 0.\n",
    "total_len = 0.\n",
    "\n",
    "for i in range(len(wer)):\n",
    "    total_decoder_err += lens[i][0] * wer[i][0]\n",
    "    total_len += lens[i][0]\n",
    "    \n",
    "    max_lmscore = -1010000\n",
    "    lm_err = 0.\n",
    "    for j in range(len(wer[i])):\n",
    "        if max_lmscore < am_scores[i][j]:\n",
    "            max_lmscore = am_scores[i][j]\n",
    "            lm_err = lens[i][j] * wer[i][j]\n",
    "    total_lm_err += lm_err\n",
    "    \n",
    "print(total_decoder_err / total_len)\n",
    "print(total_lm_err / total_len)"
   ]
  },
  {
   "cell_type": "code",
   "execution_count": 49,
   "metadata": {},
   "outputs": [
    {
     "name": "stdout",
     "output_type": "stream",
     "text": [
      "-1.0 0.13375094468157578\n",
      "-0.9 0.1335859580401716\n",
      "-0.8 0.13350612579433085\n",
      "-0.7 0.1333890385004311\n",
      "-0.6 0.13321872970930418\n",
      "-0.5 0.1330643873673454\n",
      "-0.4 0.13294730007344566\n",
      "-0.3 0.13260136034146913\n",
      "-0.2 0.13217558836365184\n",
      "-0.1 0.1318988365780706\n",
      "0.0 0.1318935144283479\n",
      "0.1 0.13360724663906245\n",
      "0.2 0.13501229416585947\n",
      "0.3 0.13599689186456193\n",
      "0.4 0.13662490553184242\n",
      "0.5 0.13702406676104611\n",
      "0.6 0.13723163060023205\n",
      "0.7 0.13747644948747698\n",
      "0.8 0.1376148253802676\n",
      "0.9 0.13767336902721747\n"
     ]
    }
   ],
   "source": [
    "for lmweight in range(-10, 10):\n",
    "    lmweight = lmweight / 10\n",
    "    total_err = 0.\n",
    "    total_len = 0.\n",
    "\n",
    "    for i in range(len(wer)):\n",
    "        total_len += lens[i][0]\n",
    "        \n",
    "        max_lmscore = -1010000\n",
    "        err = 0.\n",
    "        for j in range(len(wer[i])):\n",
    "            combined_score = am_scores[i][j] + lmweight*lm_scores[i][j]\n",
    "            if max_lmscore < combined_score:\n",
    "                max_lmscore = combined_score\n",
    "                err = lens[i][j] * wer[i][j]\n",
    "#                 print(j)\n",
    "        total_err += err\n",
    "    \n",
    "    print(lmweight, total_err / total_len)"
   ]
  },
  {
   "cell_type": "code",
   "execution_count": null,
   "metadata": {},
   "outputs": [],
   "source": []
  }
 ],
 "metadata": {
  "kernelspec": {
   "display_name": "Python 3",
   "language": "python",
   "name": "python3"
  },
  "language_info": {
   "codemirror_mode": {
    "name": "ipython",
    "version": 3
   },
   "file_extension": ".py",
   "mimetype": "text/x-python",
   "name": "python",
   "nbconvert_exporter": "python",
   "pygments_lexer": "ipython3",
   "version": "3.7.5"
  }
 },
 "nbformat": 4,
 "nbformat_minor": 4
}
