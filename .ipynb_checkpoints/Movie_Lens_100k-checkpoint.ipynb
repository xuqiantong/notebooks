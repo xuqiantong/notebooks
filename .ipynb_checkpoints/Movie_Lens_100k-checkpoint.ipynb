{
 "cells": [
  {
   "cell_type": "code",
   "execution_count": 1,
   "metadata": {},
   "outputs": [],
   "source": [
    "import numpy as np\n",
    "from numpy import linalg as LA\n",
    "\n",
    "import cvxpy as cp\n",
    "import matplotlib.pyplot as plt"
   ]
  },
  {
   "cell_type": "markdown",
   "metadata": {},
   "source": [
    "## Raw data"
   ]
  },
  {
   "cell_type": "code",
   "execution_count": 8,
   "metadata": {},
   "outputs": [
    {
     "name": "stdout",
     "output_type": "stream",
     "text": [
      "allbut.pl  u1.base  u2.test  u4.base  u5.test  ub.base\tu.genre  u.occupation\r\n",
      "mku.sh\t   u1.test  u3.base  u4.test  ua.base  ub.test\tu.info\t u.user\r\n",
      "README\t   u2.base  u3.test  u5.base  ua.test  u.data\tu.item\r\n"
     ]
    }
   ],
   "source": [
    "# http://files.grouplens.org/datasets/movielens/ml-100k-README.txt\n",
    "!ls /private/home/qiantong/movielens100k/ml-100k"
   ]
  },
  {
   "cell_type": "code",
   "execution_count": 5,
   "metadata": {},
   "outputs": [
    {
     "name": "stdout",
     "output_type": "stream",
     "text": [
      "943 users\r\n",
      "1682 items\r\n",
      "100000 ratings\r\n"
     ]
    }
   ],
   "source": [
    "# info\n",
    "!cat /private/home/qiantong/movielens100k/ml-100k/u.info"
   ]
  },
  {
   "cell_type": "code",
   "execution_count": 7,
   "metadata": {},
   "outputs": [
    {
     "name": "stdout",
     "output_type": "stream",
     "text": [
      "196\t242\t3\t881250949\n",
      "186\t302\t3\t891717742\n",
      "22\t377\t1\t878887116\n",
      "244\t51\t2\t880606923\n",
      "166\t346\t1\t886397596\n",
      "298\t474\t4\t884182806\n",
      "115\t265\t2\t881171488\n",
      "253\t465\t5\t891628467\n",
      "305\t451\t3\t886324817\n",
      "6\t86\t3\t883603013\n",
      "100000 /private/home/qiantong/movielens100k/ml-100k/u.data\n"
     ]
    }
   ],
   "source": [
    "# data : user id | item id | rating | timestamp\n",
    "!head /private/home/qiantong/movielens100k/ml-100k/u.data\n",
    "\n",
    "!wc -l /private/home/qiantong/movielens100k/ml-100k/u.data"
   ]
  },
  {
   "cell_type": "code",
   "execution_count": 11,
   "metadata": {},
   "outputs": [
    {
     "name": "stdout",
     "output_type": "stream",
     "text": [
      "1|Toy Story (1995)|01-Jan-1995||http://us.imdb.com/M/title-exact?Toy%20Story%20(1995)|0|0|0|1|1|1|0|0|0|0|0|0|0|0|0|0|0|0|0\n",
      "2|GoldenEye (1995)|01-Jan-1995||http://us.imdb.com/M/title-exact?GoldenEye%20(1995)|0|1|1|0|0|0|0|0|0|0|0|0|0|0|0|0|1|0|0\n",
      "3|Four Rooms (1995)|01-Jan-1995||http://us.imdb.com/M/title-exact?Four%20Rooms%20(1995)|0|0|0|0|0|0|0|0|0|0|0|0|0|0|0|0|1|0|0\n",
      "4|Get Shorty (1995)|01-Jan-1995||http://us.imdb.com/M/title-exact?Get%20Shorty%20(1995)|0|1|0|0|0|1|0|0|1|0|0|0|0|0|0|0|0|0|0\n",
      "5|Copycat (1995)|01-Jan-1995||http://us.imdb.com/M/title-exact?Copycat%20(1995)|0|0|0|0|0|0|1|0|1|0|0|0|0|0|0|0|1|0|0\n",
      "6|Shanghai Triad (Yao a yao yao dao waipo qiao) (1995)|01-Jan-1995||http://us.imdb.com/Title?Yao+a+yao+yao+dao+waipo+qiao+(1995)|0|0|0|0|0|0|0|0|1|0|0|0|0|0|0|0|0|0|0\n",
      "7|Twelve Monkeys (1995)|01-Jan-1995||http://us.imdb.com/M/title-exact?Twelve%20Monkeys%20(1995)|0|0|0|0|0|0|0|0|1|0|0|0|0|0|0|1|0|0|0\n",
      "8|Babe (1995)|01-Jan-1995||http://us.imdb.com/M/title-exact?Babe%20(1995)|0|0|0|0|1|1|0|0|1|0|0|0|0|0|0|0|0|0|0\n",
      "9|Dead Man Walking (1995)|01-Jan-1995||http://us.imdb.com/M/title-exact?Dead%20Man%20Walking%20(1995)|0|0|0|0|0|0|0|0|1|0|0|0|0|0|0|0|0|0|0\n",
      "10|Richard III (1995)|22-Jan-1996||http://us.imdb.com/M/title-exact?Richard%20III%20(1995)|0|0|0|0|0|0|0|0|1|0|0|0|0|0|0|0|0|1|0\n",
      "1682 /private/home/qiantong/movielens100k/ml-100k/u.item\n"
     ]
    }
   ],
   "source": [
    "# movie\n",
    "!head /private/home/qiantong/movielens100k/ml-100k/u.item\n",
    "!wc -l /private/home/qiantong/movielens100k/ml-100k/u.item"
   ]
  },
  {
   "cell_type": "code",
   "execution_count": 12,
   "metadata": {},
   "outputs": [
    {
     "name": "stdout",
     "output_type": "stream",
     "text": [
      "1|24|M|technician|85711\n",
      "2|53|F|other|94043\n",
      "3|23|M|writer|32067\n",
      "4|24|M|technician|43537\n",
      "5|33|F|other|15213\n",
      "6|42|M|executive|98101\n",
      "7|57|M|administrator|91344\n",
      "8|36|M|administrator|05201\n",
      "9|29|M|student|01002\n",
      "10|53|M|lawyer|90703\n",
      "943 /private/home/qiantong/movielens100k/ml-100k/u.user\n"
     ]
    }
   ],
   "source": [
    "# user : user id | age | gender | occupation | zip code\n",
    "!head /private/home/qiantong/movielens100k/ml-100k/u.user\n",
    "!wc -l /private/home/qiantong/movielens100k/ml-100k/u.user"
   ]
  },
  {
   "cell_type": "code",
   "execution_count": 14,
   "metadata": {},
   "outputs": [
    {
     "name": "stdout",
     "output_type": "stream",
     "text": [
      "90570 /private/home/qiantong/movielens100k/ml-100k/ua.base\n",
      "9430 /private/home/qiantong/movielens100k/ml-100k/ua.test\n",
      "90570 /private/home/qiantong/movielens100k/ml-100k/ub.base\n",
      "9430 /private/home/qiantong/movielens100k/ml-100k/ub.test\n"
     ]
    }
   ],
   "source": [
    "!wc -l /private/home/qiantong/movielens100k/ml-100k/ua.base\n",
    "!wc -l /private/home/qiantong/movielens100k/ml-100k/ua.test\n",
    "!wc -l /private/home/qiantong/movielens100k/ml-100k/ub.base\n",
    "!wc -l /private/home/qiantong/movielens100k/ml-100k/ub.test"
   ]
  },
  {
   "cell_type": "code",
   "execution_count": null,
   "metadata": {},
   "outputs": [],
   "source": []
  },
  {
   "cell_type": "markdown",
   "metadata": {},
   "source": [
    "## Load data"
   ]
  },
  {
   "cell_type": "code",
   "execution_count": 184,
   "metadata": {},
   "outputs": [
    {
     "name": "stdout",
     "output_type": "stream",
     "text": [
      "[[5. 3. 4. ... 0. 0. 0.]\n",
      " [4. 0. 0. ... 0. 0. 0.]\n",
      " [0. 0. 0. ... 0. 0. 0.]\n",
      " ...\n",
      " [5. 0. 0. ... 0. 0. 0.]\n",
      " [0. 0. 0. ... 0. 0. 0.]\n",
      " [0. 5. 0. ... 0. 0. 0.]]\n"
     ]
    }
   ],
   "source": [
    "M = 943\n",
    "N = 1682\n",
    "\n",
    "Y = np.zeros([M, N])\n",
    "Omega = {}\n",
    "\n",
    "with open('/private/home/qiantong/movielens100k/ml-100k/u.data') as f:\n",
    "    for line in f:\n",
    "        sp = line.split('\\t')\n",
    "        user_id = int(sp[0]) - 1\n",
    "        movie_id = int(sp[1]) - 1\n",
    "        score = float(sp[2])\n",
    "        \n",
    "        Y[user_id][movie_id] = score\n",
    "        Omega[(user_id, movie_id)] = score\n",
    "\n",
    "print(Y)"
   ]
  },
  {
   "cell_type": "markdown",
   "metadata": {},
   "source": [
    "## Matrix completion"
   ]
  },
  {
   "cell_type": "code",
   "execution_count": 185,
   "metadata": {},
   "outputs": [
    {
     "name": "stdout",
     "output_type": "stream",
     "text": [
      "[5.73476032 3.26549051 3.78649988 ... 3.49116669 3.65653536 2.504497  ]\n",
      "[5. 3. 4. ... 3. 3. 3.]\n"
     ]
    }
   ],
   "source": [
    "# X, Y have shape [M + N, M + N]\n",
    "\n",
    "def f(X, Y):\n",
    "    print(X[Y > 0])\n",
    "    print(Y[Y > 0])\n",
    "    return LA.norm(X[Y > 0] - Y[Y > 0]) ** 2 / 2\n",
    "\n",
    "def nabla_f(X, Y):\n",
    "    output = np.zeros(X.shape)\n",
    "    output[Y > 0] = X[Y > 0] - Y[Y > 0]\n",
    "    return output\n",
    "\n",
    "def avg_error(X, Y):\n",
    "    n_entries = np.sum(Y[Y > 0])\n",
    "    return np.sum(np.abs(X[Y > 0] - Y[Y > 0])) / n_entries\n",
    "\n",
    "def recover_error(X, Y, scale = 1):\n",
    "    return (LA.norm(X * scale - Y) / LA.norm(Y)) ** 2\n",
    "\n",
    "Y_noise = np.zeros([M, N])\n",
    "Y_noise[Y > 0] = (Y + np.random.normal(0, 0.5, [M, N]))[Y > 0]\n",
    "Y_large = np.zeros([M + N, M + N])\n",
    "Y_large[:M, M:] = Y_noise\n",
    "Y_large[M:, :M] = Y_noise.transpose()\n",
    "print(Y_noise[Y > 0])\n",
    "print(Y[Y > 0])"
   ]
  },
  {
   "cell_type": "markdown",
   "metadata": {},
   "source": [
    "### cvxpy"
   ]
  },
  {
   "cell_type": "code",
   "execution_count": 149,
   "metadata": {},
   "outputs": [
    {
     "name": "stdout",
     "output_type": "stream",
     "text": [
      "['ECOS', 'ECOS_BB', 'OSQP', 'SCS']\n"
     ]
    }
   ],
   "source": [
    "print(cp.installed_solvers())"
   ]
  },
  {
   "cell_type": "code",
   "execution_count": null,
   "metadata": {},
   "outputs": [],
   "source": [
    "TAU = 1000\n",
    "\n",
    "W1 = cp.Variable((M, M), PSD=True)\n",
    "W2 = cp.Variable((N, N), PSD=True)\n",
    "X = cp.Variable((M, N))\n",
    "X_large = cp.bmat([[W1, X], [X.T, W2]])\n",
    "\n",
    "objective = cp.Minimize(cp.sum_squares(X_large[Y_large > 0] - Y_large[Y_large > 0]))\n",
    "constraints = [cp.trace(W1) + cp.trace(W2) == TAU]\n",
    "prob = cp.Problem(objective, constraints)\n",
    "\n",
    "# prob.solve(solver=cp.MOSEK)\n",
    "# f_hat = prob.solve()\n",
    "f_hat = prob.solve(verbose=True, solver=cp.SCS, max_iters=10, eps=1e-2)\n",
    "print(\"Solve time\", prob.solver_stats.solve_time)\n",
    "print(\"Optimal value\", f_hat)\n",
    "\n",
    "X_hat = X.value\n",
    "f_hat = f(X_hat, Y)\n",
    "print(\"f\", f_hat)\n",
    "err = recover_error(X_hat, Y)\n",
    "print(\"Recover error\", err)"
   ]
  },
  {
   "cell_type": "code",
   "execution_count": 182,
   "metadata": {},
   "outputs": [
    {
     "name": "stdout",
     "output_type": "stream",
     "text": [
      "[4.72086799 3.88911036 3.84826634 ... 3.71704566 3.32524181 3.37962296]\n",
      "[4.72086799 3.88911036 3.84826634 ... 3.71704566 3.32524181 3.37962296]\n",
      "[5. 3. 4. ... 3. 3. 3.]\n"
     ]
    }
   ],
   "source": [
    "print(X.value[Y > 0])\n",
    "print(Y_noise[Y > 0])\n",
    "print(Y[Y > 0])"
   ]
  },
  {
   "cell_type": "markdown",
   "metadata": {},
   "source": [
    "### Our Algorithm"
   ]
  },
  {
   "cell_type": "code",
   "execution_count": null,
   "metadata": {},
   "outputs": [
    {
     "name": "stdout",
     "output_type": "stream",
     "text": [
      "X (2625, 1) 1.0\n",
      "tr(X) 1.0000000000000002\n",
      "[-1.04662655e-04 -5.77426203e-05 -9.96433409e-05 ... -1.12078888e-04\n",
      " -1.91859025e-04  2.42081054e-05]\n",
      "[5.73476032 3.26549051 3.78649988 ... 2.38997414 3.20342947 2.94772385]\n"
     ]
    }
   ],
   "source": [
    "RANK = 1\n",
    "TAU = 1\n",
    "\n",
    "## Initialization\n",
    "\n",
    "X = np.random.rand(M + N, RANK) - 0.5\n",
    "X = X / LA.norm(X)\n",
    "print(\"X\", X.shape, LA.norm(X))\n",
    "X = np.matmul(X, X.transpose())\n",
    "X *= TAU\n",
    "print(\"tr(X)\", np.trace(X))    \n",
    "\n",
    "## Run\n",
    "eta = 0.1\n",
    "epoch = 100\n",
    "err_list = [recover_error(X, Y_large)]\n",
    "pred_list = [f(X, Y_large)]\n",
    "\n",
    "for i in range(epoch):\n",
    "    # Compute V\n",
    "    grad = nabla_f(X, Y_large)\n",
    "    eig, vec = LA.eig(grad)\n",
    "    idx = eig.argsort()[:RANK]\n",
    "    vec = vec[:,idx]\n",
    "    \n",
    "    # Compute S\n",
    "    S = cp.Variable((RANK, RANK), PSD=True)\n",
    "    VSVT = vec * S * vec.transpose()\n",
    "    new_X = (1 - eta) * X + eta * VSVT\n",
    "    objective = cp.Minimize(cp.sum_squares(new_X[Y_large > 0] - Y_large[Y_large > 0]))\n",
    "    constraints = [cp.trace(S) == TAU]\n",
    "    prob = cp.Problem(objective, constraints)\n",
    "    prob.solve(max_iters=1, eps=1e-2)\n",
    "\n",
    "    S_hat = S.value\n",
    "    VSVT = np.matmul(vec, S_hat)\n",
    "    VSVT = np.matmul(VSVT, vec.transpose())\n",
    "    \n",
    "    # Update\n",
    "    X = (1 - eta) * X + eta * VSVT\n",
    "    \n",
    "    err = recover_error(X, Y_large)\n",
    "    pred = f(X, Y_large)\n",
    "    err_list.append(err)\n",
    "    pred_list.append(pred)\n",
    "    print(i, eta, err, pred)"
   ]
  },
  {
   "cell_type": "code",
   "execution_count": null,
   "metadata": {},
   "outputs": [],
   "source": []
  }
 ],
 "metadata": {
  "kernelspec": {
   "display_name": "Python 3",
   "language": "python",
   "name": "python3"
  },
  "language_info": {
   "codemirror_mode": {
    "name": "ipython",
    "version": 3
   },
   "file_extension": ".py",
   "mimetype": "text/x-python",
   "name": "python",
   "nbconvert_exporter": "python",
   "pygments_lexer": "ipython3",
   "version": "3.7.3"
  }
 },
 "nbformat": 4,
 "nbformat_minor": 2
}
